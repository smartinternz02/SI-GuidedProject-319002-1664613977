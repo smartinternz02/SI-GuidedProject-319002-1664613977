{
 "cells": [
  {
   "cell_type": "code",
   "execution_count": 1,
   "id": "dff9174b",
   "metadata": {},
   "outputs": [],
   "source": [
    "import numpy as np\n",
    "import tensorflow as tf\n",
    "from tensorflow import keras\n",
    "from tensorflow.keras.models import Sequential\n",
    "from tensorflow.keras.layers import Activation, Dense, Flatten, BatchNormalization, Conv2D, MaxPool2D\n",
    "from tensorflow.keras.optimizers import Adam\n",
    "from tensorflow.keras.metrics import categorical_crossentropy\n",
    "from sklearn.metrics import confusion_matrix\n",
    "from tensorflow.keras.preprocessing.image import ImageDataGenerator"
   ]
  },
  {
   "cell_type": "code",
   "execution_count": 2,
   "id": "dcd6a550",
   "metadata": {},
   "outputs": [],
   "source": [
    "train_datagen=ImageDataGenerator(rescale=1./255,shear_range=0.2,zoom_range=0.2,horizontal_flip= True)\n",
    "test_datagen=ImageDataGenerator(rescale=1./255)"
   ]
  },
  {
   "cell_type": "code",
   "execution_count": 6,
   "id": "1de0b138",
   "metadata": {},
   "outputs": [
    {
     "name": "stdout",
     "output_type": "stream",
     "text": [
      "Found 2626 images belonging to 5 classes.\n",
      "Found 1055 images belonging to 5 classes.\n"
     ]
    }
   ],
   "source": [
    "x_train=train_datagen.flow_from_directory(r'D:\\new\\Dataset\\TRAIN_SET'\n",
    "                                         ,target_size=(64,64),batch_size=32,class_mode='categorical'\n",
    "                                         )\n",
    "\n",
    "x_test=test_datagen.flow_from_directory(r'D:\\new\\Dataset\\TEST_SET'\n",
    "                                         ,target_size=(64,64),batch_size=32,class_mode='categorical')  "
   ]
  },
  {
   "cell_type": "code",
   "execution_count": 7,
   "id": "f45d984a",
   "metadata": {},
   "outputs": [
    {
     "data": {
      "text/plain": [
       "{'APPLES': 0, 'BANANA': 1, 'ORANGE': 2, 'PINEAPPLE': 3, 'WATERMELON': 4}"
      ]
     },
     "execution_count": 7,
     "metadata": {},
     "output_type": "execute_result"
    }
   ],
   "source": [
    "x_train.class_indices\n",
    "\n"
   ]
  },
  {
   "cell_type": "code",
   "execution_count": 8,
   "id": "c82d7a29",
   "metadata": {},
   "outputs": [],
   "source": [
    "model=Sequential()"
   ]
  },
  {
   "cell_type": "code",
   "execution_count": 9,
   "id": "dae28993",
   "metadata": {},
   "outputs": [],
   "source": [
    "classifer=Sequential()\n",
    "classifer.add(Conv2D(32,(3,3),input_shape=(64,64,3),activation=\"relu\"))\n",
    "classifer.add(MaxPool2D(pool_size=(2,2)))\n",
    "classifer.add(Conv2D(32,(3,3),activation=\"relu\"))\n",
    "classifer.add(MaxPool2D(pool_size=(2,2)))\n",
    "classifer.add(Flatten())"
   ]
  },
  {
   "cell_type": "code",
   "execution_count": 10,
   "id": "0eaac5fb",
   "metadata": {},
   "outputs": [],
   "source": [
    "classifer.add(Dense(units=128,activation=\"relu\"))\n",
    "classifer.add(Dense(units=5,activation=\"softmax\"))"
   ]
  },
  {
   "cell_type": "code",
   "execution_count": 11,
   "id": "aefea0bf",
   "metadata": {},
   "outputs": [
    {
     "name": "stdout",
     "output_type": "stream",
     "text": [
      "Model: \"sequential_1\"\n",
      "_________________________________________________________________\n",
      " Layer (type)                Output Shape              Param #   \n",
      "=================================================================\n",
      " conv2d (Conv2D)             (None, 62, 62, 32)        896       \n",
      "                                                                 \n",
      " max_pooling2d (MaxPooling2D  (None, 31, 31, 32)       0         \n",
      " )                                                               \n",
      "                                                                 \n",
      " conv2d_1 (Conv2D)           (None, 29, 29, 32)        9248      \n",
      "                                                                 \n",
      " max_pooling2d_1 (MaxPooling  (None, 14, 14, 32)       0         \n",
      " 2D)                                                             \n",
      "                                                                 \n",
      " flatten (Flatten)           (None, 6272)              0         \n",
      "                                                                 \n",
      " dense (Dense)               (None, 128)               802944    \n",
      "                                                                 \n",
      " dense_1 (Dense)             (None, 5)                 645       \n",
      "                                                                 \n",
      "=================================================================\n",
      "Total params: 813,733\n",
      "Trainable params: 813,733\n",
      "Non-trainable params: 0\n",
      "_________________________________________________________________\n"
     ]
    }
   ],
   "source": [
    "classifer.summary()"
   ]
  },
  {
   "cell_type": "code",
   "execution_count": 12,
   "id": "e9c5084e",
   "metadata": {},
   "outputs": [],
   "source": [
    "classifer.compile(optimizer=\"rmsprop\",loss=\"categorical_crossentropy\",metrics=[\"accuracy\"])"
   ]
  },
  {
   "cell_type": "code",
   "execution_count": 13,
   "id": "e8696f8d",
   "metadata": {
    "scrolled": false
   },
   "outputs": [
    {
     "name": "stdout",
     "output_type": "stream",
     "text": [
      "Epoch 1/20\n",
      "82/82 [==============================] - 122s 1s/step - loss: 0.4446 - accuracy: 0.8497 - val_loss: 0.0691 - val_accuracy: 0.9833\n",
      "Epoch 2/20\n",
      "82/82 [==============================] - 13s 161ms/step - loss: 0.1208 - accuracy: 0.9738 - val_loss: 0.0445 - val_accuracy: 0.9821\n",
      "Epoch 3/20\n",
      "82/82 [==============================] - 11s 132ms/step - loss: 0.0835 - accuracy: 0.9827 - val_loss: 0.0325 - val_accuracy: 0.9810\n",
      "Epoch 4/20\n",
      "82/82 [==============================] - 11s 131ms/step - loss: 0.0310 - accuracy: 0.9911 - val_loss: 0.0304 - val_accuracy: 0.9788\n",
      "Epoch 5/20\n",
      "82/82 [==============================] - 11s 130ms/step - loss: 0.0316 - accuracy: 0.9934 - val_loss: 0.0311 - val_accuracy: 0.9810\n",
      "Epoch 6/20\n",
      "82/82 [==============================] - 11s 133ms/step - loss: 0.0298 - accuracy: 0.9931 - val_loss: 0.0429 - val_accuracy: 0.9799\n",
      "Epoch 7/20\n",
      "82/82 [==============================] - 11s 131ms/step - loss: 0.0557 - accuracy: 0.9873 - val_loss: 0.0514 - val_accuracy: 0.9788\n",
      "Epoch 8/20\n",
      "82/82 [==============================] - 11s 130ms/step - loss: 0.0106 - accuracy: 0.9981 - val_loss: 0.0101 - val_accuracy: 0.9944\n",
      "Epoch 9/20\n",
      "82/82 [==============================] - 11s 131ms/step - loss: 0.0487 - accuracy: 0.9904 - val_loss: 0.0531 - val_accuracy: 0.9777\n",
      "Epoch 10/20\n",
      "82/82 [==============================] - 11s 132ms/step - loss: 0.0400 - accuracy: 0.9958 - val_loss: 0.0126 - val_accuracy: 0.9922\n",
      "Epoch 11/20\n",
      "82/82 [==============================] - 11s 132ms/step - loss: 2.4014e-05 - accuracy: 1.0000 - val_loss: 0.0381 - val_accuracy: 0.9788\n",
      "Epoch 12/20\n",
      "82/82 [==============================] - 11s 131ms/step - loss: 0.0154 - accuracy: 0.9981 - val_loss: 0.0737 - val_accuracy: 0.9743\n",
      "Epoch 13/20\n",
      "82/82 [==============================] - 11s 130ms/step - loss: 2.9156e-05 - accuracy: 1.0000 - val_loss: 0.0839 - val_accuracy: 0.9743\n",
      "Epoch 14/20\n",
      "82/82 [==============================] - 11s 135ms/step - loss: 0.0722 - accuracy: 0.9915 - val_loss: 0.0213 - val_accuracy: 0.9821\n",
      "Epoch 15/20\n",
      "82/82 [==============================] - 11s 131ms/step - loss: 5.2031e-06 - accuracy: 1.0000 - val_loss: 0.0090 - val_accuracy: 0.9944\n",
      "Epoch 16/20\n",
      "82/82 [==============================] - 11s 130ms/step - loss: 0.0206 - accuracy: 0.9942 - val_loss: 0.1045 - val_accuracy: 0.9743\n",
      "Epoch 17/20\n",
      "82/82 [==============================] - 11s 135ms/step - loss: 0.0329 - accuracy: 0.9950 - val_loss: 0.0395 - val_accuracy: 0.9833\n",
      "Epoch 18/20\n",
      "82/82 [==============================] - 11s 138ms/step - loss: 4.9715e-05 - accuracy: 1.0000 - val_loss: 0.0401 - val_accuracy: 0.9821\n",
      "Epoch 19/20\n",
      "82/82 [==============================] - 11s 136ms/step - loss: 5.8266e-07 - accuracy: 1.0000 - val_loss: 0.0442 - val_accuracy: 0.9821\n",
      "Epoch 20/20\n",
      "82/82 [==============================] - 11s 134ms/step - loss: 0.0457 - accuracy: 0.9938 - val_loss: 0.0792 - val_accuracy: 0.9833\n"
     ]
    },
    {
     "data": {
      "text/plain": [
       "<keras.callbacks.History at 0x193e67cafa0>"
      ]
     },
     "execution_count": 13,
     "metadata": {},
     "output_type": "execute_result"
    }
   ],
   "source": [
    "classifer.fit(x_train,steps_per_epoch=82,epochs=20,validation_data=x_test,validation_steps=28)"
   ]
  },
  {
   "cell_type": "code",
   "execution_count": 14,
   "id": "f615b7a0",
   "metadata": {},
   "outputs": [],
   "source": [
    "classifer.save(\"nutrition.h5\")\n",
    "\n",
    "\n"
   ]
  },
  {
   "cell_type": "code",
   "execution_count": 15,
   "id": "7f3d560e",
   "metadata": {},
   "outputs": [
    {
     "data": {
      "text/plain": [
       "<keras.engine.sequential.Sequential at 0x193e6570ca0>"
      ]
     },
     "execution_count": 15,
     "metadata": {},
     "output_type": "execute_result"
    }
   ],
   "source": [
    "from tensorflow.keras.models import load_model\n",
    "model=load_model(\"nutrition.h5\")\n",
    "model\n"
   ]
  },
  {
   "cell_type": "code",
   "execution_count": 16,
   "id": "b7b170b4",
   "metadata": {},
   "outputs": [],
   "source": [
    "from tensorflow.keras.preprocessing import image"
   ]
  },
  {
   "cell_type": "code",
   "execution_count": 17,
   "id": "f9cfef40",
   "metadata": {},
   "outputs": [],
   "source": [
    "# r\"C:\\Users\\91720\\Downloads\\Nutrition_Image_Analysis\\Dataset\\TEST_SET\\BANANA\\13_100.jpg\"\n",
    "\n",
    "img = image.load_img(r\"D:\\new\\Flask\\Sample_Images\\Test_Image1.jpg\", target_size = (64, 64))\n",
    "x = image.img_to_array(img)\n",
    "x = np.expand_dims(x, axis = 0)\n"
   ]
  },
  {
   "cell_type": "code",
   "execution_count": 18,
   "id": "6e4e93d2",
   "metadata": {},
   "outputs": [
    {
     "name": "stdout",
     "output_type": "stream",
     "text": [
      "1/1 [==============================] - 0s 301ms/step\n"
     ]
    },
    {
     "data": {
      "text/plain": [
       "array([[1., 0., 0., 0., 0.]], dtype=float32)"
      ]
     },
     "execution_count": 18,
     "metadata": {},
     "output_type": "execute_result"
    }
   ],
   "source": [
    "prediction = model.predict(x)\n",
    "index = ['APPLES', 'BANANA', 'ORANGE', 'PINEAPPLE', 'WATERMELON']\n",
    "prediction\n"
   ]
  },
  {
   "cell_type": "code",
   "execution_count": 19,
   "id": "5d0e3c8b",
   "metadata": {},
   "outputs": [],
   "source": [
    "ind = np.argmax(prediction)"
   ]
  },
  {
   "cell_type": "code",
   "execution_count": 20,
   "id": "ad68c185",
   "metadata": {},
   "outputs": [
    {
     "data": {
      "text/plain": [
       "'APPLES'"
      ]
     },
     "execution_count": 20,
     "metadata": {},
     "output_type": "execute_result"
    }
   ],
   "source": [
    "index[ind]"
   ]
  },
  {
   "cell_type": "code",
   "execution_count": null,
   "id": "c816f0f2",
   "metadata": {},
   "outputs": [],
   "source": []
  }
 ],
 "metadata": {
  "kernelspec": {
   "display_name": "Python 3 (ipykernel)",
   "language": "python",
   "name": "python3"
  },
  "language_info": {
   "codemirror_mode": {
    "name": "ipython",
    "version": 3
   },
   "file_extension": ".py",
   "mimetype": "text/x-python",
   "name": "python",
   "nbconvert_exporter": "python",
   "pygments_lexer": "ipython3",
   "version": "3.9.12"
  }
 },
 "nbformat": 4,
 "nbformat_minor": 5
}
